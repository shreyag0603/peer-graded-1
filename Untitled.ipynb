{
 "cells": [
  {
   "cell_type": "markdown",
   "id": "be009c32-cc1b-40c4-9014-372e6dad614e",
   "metadata": {},
   "source": [
    "# Peer Graded Assignment"
   ]
  },
  {
   "cell_type": "markdown",
   "id": "4575c4c1-dc5f-4254-a7dc-f87dd3f05eb2",
   "metadata": {},
   "source": [
    "### Shreya Ghosh"
   ]
  },
  {
   "cell_type": "code",
   "execution_count": null,
   "id": "02276878-6e55-4d85-8780-85152a92014c",
   "metadata": {},
   "outputs": [],
   "source": []
  }
 ],
 "metadata": {
  "kernelspec": {
   "display_name": "Python",
   "language": "python",
   "name": "conda-env-python-py"
  },
  "language_info": {
   "codemirror_mode": {
    "name": "ipython",
    "version": 3
   },
   "file_extension": ".py",
   "mimetype": "text/x-python",
   "name": "python",
   "nbconvert_exporter": "python",
   "pygments_lexer": "ipython3",
   "version": "3.7.12"
  }
 },
 "nbformat": 4,
 "nbformat_minor": 5
}
