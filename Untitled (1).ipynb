{
 "cells": [
  {
   "cell_type": "markdown",
   "id": "be009c32-cc1b-40c4-9014-372e6dad614e",
   "metadata": {},
   "source": [
    "# Peer Graded Assignment"
   ]
  },
  {
   "cell_type": "markdown",
   "id": "4575c4c1-dc5f-4254-a7dc-f87dd3f05eb2",
   "metadata": {},
   "source": [
    "### **Shreya Ghosh**"
   ]
  },
  {
   "cell_type": "markdown",
   "id": "a54b3bac-47b2-497e-b305-50d82c67b5f2",
   "metadata": {},
   "source": [
    "*I am interested in data Science because it is a very interesting subject*"
   ]
  },
  {
   "cell_type": "markdown",
   "id": "a436ba15-aad8-4eec-bb13-1302ca3d8f68",
   "metadata": {},
   "source": [
    "### The following code will add the numbers 5 & 8."
   ]
  },
  {
   "cell_type": "code",
   "execution_count": 2,
   "id": "26a7e1e6-4687-4179-beec-f7cd68181ea1",
   "metadata": {},
   "outputs": [
    {
     "data": {
      "text/plain": [
       "13"
      ]
     },
     "execution_count": 2,
     "metadata": {},
     "output_type": "execute_result"
    }
   ],
   "source": [
    "5+8"
   ]
  },
  {
   "cell_type": "code",
   "execution_count": null,
   "id": "57ad1ee1-88f1-43d3-8025-1bef6242c2f1",
   "metadata": {},
   "outputs": [],
   "source": []
  }
 ],
 "metadata": {
  "kernelspec": {
   "display_name": "Python",
   "language": "python",
   "name": "conda-env-python-py"
  },
  "language_info": {
   "codemirror_mode": {
    "name": "ipython",
    "version": 3
   },
   "file_extension": ".py",
   "mimetype": "text/x-python",
   "name": "python",
   "nbconvert_exporter": "python",
   "pygments_lexer": "ipython3",
   "version": "3.7.12"
  }
 },
 "nbformat": 4,
 "nbformat_minor": 5
}
